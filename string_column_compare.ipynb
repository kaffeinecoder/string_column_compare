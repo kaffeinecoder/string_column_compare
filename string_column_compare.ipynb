{
 "cells": [
  {
   "cell_type": "code",
   "execution_count": 1,
   "id": "26ee9b13",
   "metadata": {},
   "outputs": [],
   "source": [
    "def compare_str_column(table1, table2):\n",
    "    \"\"\"\n",
    "    This module is used for comparing every column of one table with every column of another table \n",
    "    we need this to match strings and standardize data \n",
    "    dependancies= pandas==1.4.4\n",
    "                  fuzzywuzzy==0.18.0\n",
    "    example : compare_str_column(\"table1.xlsx\",\"table2.xlsv\")\n",
    "    output: similarity in percentage and mean similarity in percentage is in df for all columns of table 1 vs all columns of table 2 \n",
    "    \"\"\"\n",
    "    table1 = exceldata1.values.tolist()\n",
    "    table2 = exceldata2.values.tolist()\n",
    "\n",
    "    df = pd.DataFrame(columns=[\"String1\", \"String2\", \"Similarity\"])\n",
    "    for k in range(len(table1[0])):\n",
    "        for l in range(len(table2[0])):\n",
    "            mean_similarity = 0\n",
    "            for i in range(len(table1)):\n",
    "                for j in range(len(table2)):\n",
    "                    similarity = fuzz.ratio(table3[i][k], table4[j][l])\n",
    "                    mean_similarity += fuzz.ratio(table3[i][k], table4[j][l])\n",
    "                mean_similarity /= (len(table3) * len(table4))\n",
    "            df = df.append({\"String1\": table3[i][k], \"String2\": table4[j][l], \"Similarity\": similarity, \"mean_similarity\": mean_similarity}, ignore_index=True)\n",
    "            \n",
    "            \n",
    "    return df"
   ]
  },
  {
   "cell_type": "code",
   "execution_count": null,
   "id": "4f4816a7",
   "metadata": {},
   "outputs": [],
   "source": []
  }
 ],
 "metadata": {
  "kernelspec": {
   "display_name": "Python 3 (ipykernel)",
   "language": "python",
   "name": "python3"
  },
  "language_info": {
   "codemirror_mode": {
    "name": "ipython",
    "version": 3
   },
   "file_extension": ".py",
   "mimetype": "text/x-python",
   "name": "python",
   "nbconvert_exporter": "python",
   "pygments_lexer": "ipython3",
   "version": "3.9.13"
  }
 },
 "nbformat": 4,
 "nbformat_minor": 5
}
